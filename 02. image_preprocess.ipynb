{
 "cells": [
  {
   "cell_type": "code",
   "execution_count": 23,
   "metadata": {},
   "outputs": [],
   "source": [
    "import cv2\n",
    "import cv2 as cv\n",
    "import numpy as np\n",
    "import pandas as pd\n",
    "import glob\n",
    "import os\n",
    "import pickle\n",
    "from scipy import ndimage as nd\n",
    "from matplotlib import pyplot as plt"
   ]
  },
  {
   "cell_type": "code",
   "execution_count": 50,
   "metadata": {},
   "outputs": [],
   "source": [
    "# 이미지 경로\n",
    "img_path = '../BoneAge/Data/image/'\n",
    "data_path = '../BoneAge/Data/'\n",
    "filter_path = '../BoneAge/Data/filtering_img/'\n",
    "\n",
    "original_img_path = glob.glob(img_path + \"*.jpg\")\n",
    "filtering_img = os.path.join(data_path, 'filtering_img')\n",
    "os.makedirs(filtering_img, exist_ok=True)\n",
    "\n",
    "filtering_path = glob.glob(filter_path + \"*.jpg\")\n",
    "masking_img = os.path.join(data_path, \"masking_img\")\n",
    "os.makedirs(masking_img, exist_ok=True)"
   ]
  },
  {
   "cell_type": "markdown",
   "metadata": {},
   "source": [
    "## 이미지 불러오기"
   ]
  },
  {
   "cell_type": "code",
   "execution_count": 51,
   "metadata": {},
   "outputs": [],
   "source": [
    "# 이미지 불러오기 및 이미지 사이즈 재설정\n",
    "def read_img(path):\n",
    "    original_img = plt.imread(path, cv2.IMREAD_GRAYSCALE)\n",
    "    return original_img"
   ]
  },
  {
   "cell_type": "markdown",
   "metadata": {},
   "source": [
    "## 이미지 전처리"
   ]
  },
  {
   "cell_type": "code",
   "execution_count": 44,
   "metadata": {},
   "outputs": [],
   "source": [
    "# 이미지 사이즈 재설정, 정규화, 노이즈 제거, 평탄화 진행\n",
    "def filtering(original_img):\n",
    "    img = original_img.copy()\n",
    "\n",
    "    # 사이즈 재설정\n",
    "    resized_img = cv2.resize(img, (800, 1000))\n",
    "\n",
    "    # 정규화\n",
    "    normalized_image = cv2.normalize(resized_img, None, 0, 255, cv2.NORM_MINMAX)\n",
    "\n",
    "    # 노이즈 제거\n",
    "    denoised_image = cv2.fastNlMeansDenoising(normalized_image, None, h=3, templateWindowSize=21, searchWindowSize=30)\n",
    "    \n",
    "    # 평탄화\n",
    "    gray_image = cv2.cvtColor(denoised_image, cv2.COLOR_BGR2GRAY)\n",
    "    clahe = cv2.createCLAHE(clipLimit=2.0, tileGridSize=(8, 8))\n",
    "    equalized_image = clahe.apply(gray_image)\n",
    "    \n",
    "    return equalized_image"
   ]
  },
  {
   "cell_type": "markdown",
   "metadata": {},
   "source": [
    "## 전체이미지 filtering 실행"
   ]
  },
  {
   "cell_type": "code",
   "execution_count": 27,
   "metadata": {},
   "outputs": [],
   "source": [
    "# 원본 이미지 전체 전처리 진행\n",
    "for img_path in original_img_path:\n",
    "    original_img = read_img(img_path)\n",
    "    filtered_img = filtering(original_img)\n",
    "    \n",
    "    # 이미지 파일명 추출\n",
    "    img_filename = os.path.basename(img_path)\n",
    "    \n",
    "    # 저장할 경로 설정\n",
    "    save_path = os.path.join(filtering_img, img_filename)\n",
    "    \n",
    "    # 이미지 저장\n",
    "    cv2.imwrite(save_path, filtered_img)"
   ]
  },
  {
   "cell_type": "code",
   "execution_count": null,
   "metadata": {},
   "outputs": [],
   "source": []
  },
  {
   "cell_type": "markdown",
   "metadata": {},
   "source": [
    "## 마스크 생성"
   ]
  },
  {
   "cell_type": "code",
   "execution_count": 59,
   "metadata": {},
   "outputs": [],
   "source": [
    "# 마스크 생성\n",
    "def get_mask(img):\n",
    "    # 밝기를 강조한 Lab으로 이미지 변환\n",
    "    img_mask = cv2.cvtColor(img, cv2.COLOR_RGB2Lab)\n",
    "\n",
    "    # blur처리\n",
    "    # 이미지 평균 값을 기준으로 홀수값 만들기\n",
    "    blur_k = int((img_mask.mean()*0.5)//2)*2+1 \n",
    "    img_mask = cv2.medianBlur(img_mask, blur_k)\n",
    "\n",
    "    # threshold 적용을 위해 Lab에서 Grayscale로 이미지 변환\n",
    "    img_mask = cv2.cvtColor(img_mask, cv2.COLOR_Lab2BGR)\n",
    "    img_mask = cv2.cvtColor(img_mask, cv2.COLOR_BGR2GRAY)\n",
    "\n",
    "    # 평균값을 기준으로 이진화\n",
    "    ret, img_mask = cv2.threshold(img_mask, img_mask.mean()*0.94, 225, cv2.THRESH_BINARY)\n",
    "\n",
    "    # Max value of contours for make mask\n",
    "    contours, hierarchy = cv2.findContours(img_mask, cv2.RETR_EXTERNAL, cv2.CHAIN_APPROX_SIMPLE)\n",
    "    max_cnt = max(contours, key=cv2.contourArea)\n",
    "    mask = np.zeros(img_mask.shape, dtype=np.uint8)\n",
    "    cv2.drawContours(mask, [max_cnt], -1, (255,255,255), -1)\n",
    "\n",
    "    # dilate 적용\n",
    "    k = cv2.getStructuringElement(cv2.MORPH_RECT, (5,5))\n",
    "    mask = cv2.dilate(mask,k)\n",
    "    \n",
    "    return mask\n"
   ]
  },
  {
   "cell_type": "code",
   "execution_count": 60,
   "metadata": {},
   "outputs": [],
   "source": [
    "# 마스크를 이용하여 배경 자르기\n",
    "def cut_mask(img, mask):\n",
    "    img_for_cut = img.copy()\n",
    "    height, width = img_for_cut.shape[:2]\n",
    "\n",
    "    # mask\n",
    "    mask_list = mask.tolist()\n",
    "    \n",
    "    for y in range(int(height*0.05),height):\n",
    "        if max(mask[y,int(width*0.3):int(width*0.7)]) > 0:\n",
    "            start_y = y-int(height*0.05)\n",
    "            break\n",
    "            \n",
    "    for x in range(int(width*0.05),width):\n",
    "        if max(mask[int(height*0.3):int(height*0.7),x]) > 0:\n",
    "            start_x = x-int(width*0.05)\n",
    "            break\n",
    "            \n",
    "    for x in range(int(width*0.95),-1,-1):\n",
    "        if max(mask[int(height*0.3):int(height*0.7),x]) > 0:\n",
    "            end_x = x+int(width*0.05)\n",
    "            break\n",
    "            \n",
    "    cut_index = 0\n",
    "    if mask_list[height-1][-1] == 255 or mask_list[height-1][0] == 255:\n",
    "        for n in reversed(range(height)):\n",
    "            if mask_list[n][0] == 0 or mask_list[n][-1] == 0:\n",
    "                cut_index = n\n",
    "                break\n",
    "                \n",
    "    if cut_index == 0:\n",
    "        cut_index = height\n",
    "\n",
    "    # converting color\n",
    "    img_for_cut = cv2.cvtColor(img_for_cut, cv2.COLOR_BGR2GRAY) \n",
    "\n",
    "    img_for_cut = img_for_cut[start_y:(cut_index-1),start_x:end_x]\n",
    "    mask = mask[start_y:(cut_index-1),start_x:end_x]\n",
    "\n",
    "    # remove background\n",
    "    masked = cv2.bitwise_and(img_for_cut, mask)\n",
    "\n",
    "    return masked"
   ]
  },
  {
   "cell_type": "code",
   "execution_count": null,
   "metadata": {},
   "outputs": [],
   "source": []
  },
  {
   "cell_type": "code",
   "execution_count": null,
   "metadata": {},
   "outputs": [],
   "source": []
  }
 ],
 "metadata": {
  "kernelspec": {
   "display_name": "Python 3",
   "language": "python",
   "name": "python3"
  },
  "language_info": {
   "codemirror_mode": {
    "name": "ipython",
    "version": 3
   },
   "file_extension": ".py",
   "mimetype": "text/x-python",
   "name": "python",
   "nbconvert_exporter": "python",
   "pygments_lexer": "ipython3",
   "version": "3.12.1"
  }
 },
 "nbformat": 4,
 "nbformat_minor": 2
}
